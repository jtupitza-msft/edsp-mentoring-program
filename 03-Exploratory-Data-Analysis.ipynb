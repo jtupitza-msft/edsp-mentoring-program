{
 "cells": [
  {
   "cell_type": "markdown",
   "id": "2ed1dcf2",
   "metadata": {},
   "source": [
    "## Exploratory Data Analysis (EDA)\n",
    "Once the data has been initially profiled, and any major defects have been addressed, exploratory analytic techniques can then be implemented to gain an understanding of how the values in each feature (column) are distributed, and how each feature is correlated to the **target** (i.e., the value to be predicted).\n",
    "\n",
    "Exploratory Data Analysis (EDA) is not limited to a single step of the data science process; rather, it is implemented throughout. Various EDA techniques were already implemented during the initial data profiling process, as well as during the effort to prepare the dataset. In this step of the data science process, EDA techniques are focused on observing the interrelationships amongst the features to determine their levels of independence (i.e., identifying any feature interactions), and tentatively identifying which features exhibit the greatest correlation to the target. This also includes identifying opportunities to implement various **feature engineering** techniques that are aimed at enhancing the influence of existing features, and potentially creating *new* features that may be more influential than the organic features. EDA techniques will then be used for **feature selection** (i.e., identifying the smallest possible feature subset required to produce the most parsimonious solution for training the most effective machine learning model). What's more, EDA techniques will be used during the model evaluation process to explain the rationale behind each individual inference (prediction) each of our candidate models generate."
   ]
  },
  {
   "cell_type": "markdown",
   "id": "6ede71b9",
   "metadata": {},
   "source": [
    "#### Import Libraries"
   ]
  },
  {
   "cell_type": "code",
   "execution_count": 1,
   "id": "89a36e08",
   "metadata": {},
   "outputs": [],
   "source": [
    "import os\n",
    "import pandas as pd\n",
    "import seaborn as sns\n",
    "import matplotlib.pyplot as plt "
   ]
  },
  {
   "cell_type": "markdown",
   "id": "7886aeee",
   "metadata": {},
   "source": [
    "#### Import the Data"
   ]
  },
  {
   "cell_type": "code",
   "execution_count": 2,
   "id": "db6af79b",
   "metadata": {},
   "outputs": [
    {
     "name": "stdout",
     "output_type": "stream",
     "text": [
      "Shape: 1307 Observations x 17 Features\n"
     ]
    }
   ],
   "source": [
    "data_dir = os.path.join(os.getcwd(), 'Data')\n",
    "source_data_file = 'titanic-eda.csv';\n",
    "\n",
    "data_file = os.path.join(data_dir, source_data_file)\n",
    "df = pd.read_csv(data_file, header=0, index_col=0)\n",
    "\n",
    "# Ensure the index values are: seed=1, increment=1\n",
    "df.reset_index(drop=True, inplace=True)\n",
    "\n",
    "print(f\"Shape: {df.shape[0]} Observations x {df.shape[1]} Features\")"
   ]
  },
  {
   "cell_type": "code",
   "execution_count": 3,
   "id": "32d0b661",
   "metadata": {},
   "outputs": [
    {
     "data": {
      "text/html": [
       "<div>\n",
       "<style scoped>\n",
       "    .dataframe tbody tr th:only-of-type {\n",
       "        vertical-align: middle;\n",
       "    }\n",
       "\n",
       "    .dataframe tbody tr th {\n",
       "        vertical-align: top;\n",
       "    }\n",
       "\n",
       "    .dataframe thead th {\n",
       "        text-align: right;\n",
       "    }\n",
       "</style>\n",
       "<table border=\"1\" class=\"dataframe\">\n",
       "  <thead>\n",
       "    <tr style=\"text-align: right;\">\n",
       "      <th></th>\n",
       "      <th>age</th>\n",
       "      <th>fare</th>\n",
       "      <th>body</th>\n",
       "      <th>cabin</th>\n",
       "      <th>embarked</th>\n",
       "      <th>home.dest</th>\n",
       "      <th>boat</th>\n",
       "      <th>cabin_NA</th>\n",
       "      <th>embarked_NA</th>\n",
       "      <th>boat_NA</th>\n",
       "      <th>home.dest_NA</th>\n",
       "      <th>survived</th>\n",
       "      <th>sex</th>\n",
       "      <th>sibsp</th>\n",
       "      <th>parch</th>\n",
       "      <th>ticket</th>\n",
       "      <th>survived_desc</th>\n",
       "    </tr>\n",
       "  </thead>\n",
       "  <tbody>\n",
       "    <tr>\n",
       "      <th>0</th>\n",
       "      <td>29.0000</td>\n",
       "      <td>211.3375</td>\n",
       "      <td>160.667892</td>\n",
       "      <td>B5</td>\n",
       "      <td>S</td>\n",
       "      <td>St Louis, MO</td>\n",
       "      <td>2</td>\n",
       "      <td>False</td>\n",
       "      <td>False</td>\n",
       "      <td>False</td>\n",
       "      <td>False</td>\n",
       "      <td>1</td>\n",
       "      <td>female</td>\n",
       "      <td>0</td>\n",
       "      <td>0</td>\n",
       "      <td>24160</td>\n",
       "      <td>survived</td>\n",
       "    </tr>\n",
       "    <tr>\n",
       "      <th>1</th>\n",
       "      <td>0.9167</td>\n",
       "      <td>151.5500</td>\n",
       "      <td>160.715252</td>\n",
       "      <td>C22</td>\n",
       "      <td>S</td>\n",
       "      <td>Montreal, PQ / Chesterville, ON</td>\n",
       "      <td>11</td>\n",
       "      <td>False</td>\n",
       "      <td>False</td>\n",
       "      <td>False</td>\n",
       "      <td>False</td>\n",
       "      <td>1</td>\n",
       "      <td>male</td>\n",
       "      <td>1</td>\n",
       "      <td>2</td>\n",
       "      <td>113781</td>\n",
       "      <td>survived</td>\n",
       "    </tr>\n",
       "    <tr>\n",
       "      <th>2</th>\n",
       "      <td>2.0000</td>\n",
       "      <td>151.5500</td>\n",
       "      <td>160.715252</td>\n",
       "      <td>C22</td>\n",
       "      <td>S</td>\n",
       "      <td>Montreal, PQ / Chesterville, ON</td>\n",
       "      <td>unknown</td>\n",
       "      <td>False</td>\n",
       "      <td>False</td>\n",
       "      <td>True</td>\n",
       "      <td>False</td>\n",
       "      <td>0</td>\n",
       "      <td>female</td>\n",
       "      <td>1</td>\n",
       "      <td>2</td>\n",
       "      <td>113781</td>\n",
       "      <td>perished</td>\n",
       "    </tr>\n",
       "    <tr>\n",
       "      <th>3</th>\n",
       "      <td>30.0000</td>\n",
       "      <td>151.5500</td>\n",
       "      <td>135.000000</td>\n",
       "      <td>C22</td>\n",
       "      <td>S</td>\n",
       "      <td>Montreal, PQ / Chesterville, ON</td>\n",
       "      <td>unknown</td>\n",
       "      <td>False</td>\n",
       "      <td>False</td>\n",
       "      <td>True</td>\n",
       "      <td>False</td>\n",
       "      <td>0</td>\n",
       "      <td>male</td>\n",
       "      <td>1</td>\n",
       "      <td>2</td>\n",
       "      <td>113781</td>\n",
       "      <td>perished</td>\n",
       "    </tr>\n",
       "    <tr>\n",
       "      <th>4</th>\n",
       "      <td>25.0000</td>\n",
       "      <td>151.5500</td>\n",
       "      <td>160.715252</td>\n",
       "      <td>C22</td>\n",
       "      <td>S</td>\n",
       "      <td>Montreal, PQ / Chesterville, ON</td>\n",
       "      <td>unknown</td>\n",
       "      <td>False</td>\n",
       "      <td>False</td>\n",
       "      <td>True</td>\n",
       "      <td>False</td>\n",
       "      <td>0</td>\n",
       "      <td>female</td>\n",
       "      <td>1</td>\n",
       "      <td>2</td>\n",
       "      <td>113781</td>\n",
       "      <td>perished</td>\n",
       "    </tr>\n",
       "  </tbody>\n",
       "</table>\n",
       "</div>"
      ],
      "text/plain": [
       "       age      fare        body cabin embarked  \\\n",
       "0  29.0000  211.3375  160.667892    B5        S   \n",
       "1   0.9167  151.5500  160.715252   C22        S   \n",
       "2   2.0000  151.5500  160.715252   C22        S   \n",
       "3  30.0000  151.5500  135.000000   C22        S   \n",
       "4  25.0000  151.5500  160.715252   C22        S   \n",
       "\n",
       "                         home.dest     boat  cabin_NA  embarked_NA  boat_NA  \\\n",
       "0                     St Louis, MO        2     False        False    False   \n",
       "1  Montreal, PQ / Chesterville, ON       11     False        False    False   \n",
       "2  Montreal, PQ / Chesterville, ON  unknown     False        False     True   \n",
       "3  Montreal, PQ / Chesterville, ON  unknown     False        False     True   \n",
       "4  Montreal, PQ / Chesterville, ON  unknown     False        False     True   \n",
       "\n",
       "   home.dest_NA  survived     sex  sibsp  parch  ticket survived_desc  \n",
       "0         False         1  female      0      0   24160      survived  \n",
       "1         False         1    male      1      2  113781      survived  \n",
       "2         False         0  female      1      2  113781      perished  \n",
       "3         False         0    male      1      2  113781      perished  \n",
       "4         False         0  female      1      2  113781      perished  "
      ]
     },
     "execution_count": 3,
     "metadata": {},
     "output_type": "execute_result"
    }
   ],
   "source": [
    "df.head()"
   ]
  },
  {
   "cell_type": "markdown",
   "id": "6f7980d0",
   "metadata": {},
   "source": [
    "### 1.0. Analyze Numerical Feature Correlations\n",
    "#### 1.1. Using a Pearson Correlation Matrix\n",
    "The correlation matrix presents the extent to which features correlate with one another using signed numerical values. Not only can the extent to which the predictors correlate with the target (response) be observed, but also each feature's level of independence can be observed. This enables identifying **feature interactions** which is helpful when those interactions have greater influence on the target than any of the independent variables. What's more, some machine learning algorithms require all predictors to be independent; therefore, it's important for the sake of model selection to identify any feature interactions. During data preparation it was determined that **survived, sibsp**, and **parch** were *numerical* features that, having discrete values of a very limited range, would possibly influence the *Target* more if treated as *categorical* features. However, here we will assess their levels of correlation as *numerical* values.  "
   ]
  },
  {
   "cell_type": "code",
   "execution_count": 4,
   "id": "dafc114d",
   "metadata": {},
   "outputs": [
    {
     "data": {
      "text/html": [
       "<div>\n",
       "<style scoped>\n",
       "    .dataframe tbody tr th:only-of-type {\n",
       "        vertical-align: middle;\n",
       "    }\n",
       "\n",
       "    .dataframe tbody tr th {\n",
       "        vertical-align: top;\n",
       "    }\n",
       "\n",
       "    .dataframe thead th {\n",
       "        text-align: right;\n",
       "    }\n",
       "</style>\n",
       "<table border=\"1\" class=\"dataframe\">\n",
       "  <thead>\n",
       "    <tr style=\"text-align: right;\">\n",
       "      <th></th>\n",
       "      <th>age</th>\n",
       "      <th>fare</th>\n",
       "      <th>body</th>\n",
       "      <th>survived</th>\n",
       "      <th>sibsp</th>\n",
       "      <th>parch</th>\n",
       "    </tr>\n",
       "  </thead>\n",
       "  <tbody>\n",
       "    <tr>\n",
       "      <th>age</th>\n",
       "      <td>1.000000</td>\n",
       "      <td>0.179413</td>\n",
       "      <td>0.019430</td>\n",
       "      <td>-0.043160</td>\n",
       "      <td>-0.189671</td>\n",
       "      <td>-0.125535</td>\n",
       "    </tr>\n",
       "    <tr>\n",
       "      <th>fare</th>\n",
       "      <td>0.179413</td>\n",
       "      <td>1.000000</td>\n",
       "      <td>-0.011885</td>\n",
       "      <td>0.243776</td>\n",
       "      <td>0.159921</td>\n",
       "      <td>0.221261</td>\n",
       "    </tr>\n",
       "    <tr>\n",
       "      <th>body</th>\n",
       "      <td>0.019430</td>\n",
       "      <td>-0.011885</td>\n",
       "      <td>1.000000</td>\n",
       "      <td>-0.000338</td>\n",
       "      <td>-0.026126</td>\n",
       "      <td>0.014887</td>\n",
       "    </tr>\n",
       "    <tr>\n",
       "      <th>survived</th>\n",
       "      <td>-0.043160</td>\n",
       "      <td>0.243776</td>\n",
       "      <td>-0.000338</td>\n",
       "      <td>1.000000</td>\n",
       "      <td>-0.028420</td>\n",
       "      <td>0.082176</td>\n",
       "    </tr>\n",
       "    <tr>\n",
       "      <th>sibsp</th>\n",
       "      <td>-0.189671</td>\n",
       "      <td>0.159921</td>\n",
       "      <td>-0.026126</td>\n",
       "      <td>-0.028420</td>\n",
       "      <td>1.000000</td>\n",
       "      <td>0.373383</td>\n",
       "    </tr>\n",
       "    <tr>\n",
       "      <th>parch</th>\n",
       "      <td>-0.125535</td>\n",
       "      <td>0.221261</td>\n",
       "      <td>0.014887</td>\n",
       "      <td>0.082176</td>\n",
       "      <td>0.373383</td>\n",
       "      <td>1.000000</td>\n",
       "    </tr>\n",
       "  </tbody>\n",
       "</table>\n",
       "</div>"
      ],
      "text/plain": [
       "               age      fare      body  survived     sibsp     parch\n",
       "age       1.000000  0.179413  0.019430 -0.043160 -0.189671 -0.125535\n",
       "fare      0.179413  1.000000 -0.011885  0.243776  0.159921  0.221261\n",
       "body      0.019430 -0.011885  1.000000 -0.000338 -0.026126  0.014887\n",
       "survived -0.043160  0.243776 -0.000338  1.000000 -0.028420  0.082176\n",
       "sibsp    -0.189671  0.159921 -0.026126 -0.028420  1.000000  0.373383\n",
       "parch    -0.125535  0.221261  0.014887  0.082176  0.373383  1.000000"
      ]
     },
     "execution_count": 4,
     "metadata": {},
     "output_type": "execute_result"
    }
   ],
   "source": [
    "numerical_cols = [col for col in df.columns if df.dtypes[col] != 'O' and df.dtypes[col] != bool]\n",
    "\n",
    "df[numerical_cols].corr('pearson')"
   ]
  },
  {
   "cell_type": "markdown",
   "id": "bec32422",
   "metadata": {},
   "source": [
    "The correlation matrix can be a little difficult to understand, especially if it includes a large number of features, but the numerical values do enable a precise understanding of each feature's level of correlation.  Another popular visualization used to understand feature interactions is the colorbar (aka. the heatmap).\n",
    "\n",
    "#### 1.2. Using a Colorbar (Heatmap)"
   ]
  },
  {
   "cell_type": "code",
   "execution_count": 5,
   "id": "6a15003e",
   "metadata": {},
   "outputs": [
    {
     "data": {
      "image/png": "[encoded data removed]",
      "text/plain": [
       "<Figure size 432x432 with 2 Axes>"
      ]
     },
     "metadata": {
      "needs_background": "light"
     },
     "output_type": "display_data"
    }
   ],
   "source": [
    "plt.figure(figsize=(6,6))\n",
    "plt.imshow(df[numerical_cols].corr('pearson'), cmap=plt.cm.Blues, interpolation='nearest')\n",
    "tick_marks = [i for i in range(len(numerical_cols))]\n",
    "plt.xticks(tick_marks, numerical_cols, rotation='vertical')\n",
    "plt.yticks(tick_marks, numerical_cols)\n",
    "plt.colorbar()\n",
    "plt.show()"
   ]
  },
  {
   "cell_type": "markdown",
   "id": "ec10280c",
   "metadata": {},
   "source": [
    "These two methods clearly reveal that **fare** has the strongest correlation to the target. This makes sense since the more expensive staterooms (e.g., first class) afforded easy access to the main deck and the lifeboats while the least expensive staterooms (e.g., steerage) were located far below the main deck, thereby impeding, or even prevented, access to the main deck and the lifeboats.  What's more, these visualizations reveal significant feature interactions between **sibsp** (number of siblings or spouse) and **parch** (number of parents or children), between **fare** and **parch**, between **fare** and **sibsp**, and between **fare** and **age**. These also make sense because together **sibsp** and **parch** reflect the two-way relationships that naturally exist between family members, and because **fare** and **age** reflect that older passengers would be more likely to be wealthy enough to afford the more expensive accommodations.\n",
    "\n",
    "### 2.0. Analyze the Distribution of the Target class\n",
    "It is also important to understand the class distribution of the target. In a **classification** task the target will be a categorical variable; whereas in a **regression** task the target will be a continuous numerical variable.  Here we observe the class distribution of a *binary categorical variable* having approximately a 60/40% distribution amongst its classes. In this case, neither category is small enough to be considered a **rare event**; however, in cases where the event of interest represents less than 10% of the total number of observations, some resampling of the target variable may be considered to ensure the machine learning model is trained sufficiently on both categories. If a model is insufficiently trained on all categories of the target then its performance will most likely also be unbalanced.  For example, if only 5% of the observations pertained to passengers who had survived, then the resulting model may accurately predict only those passengers who *perished* while performing poorly when attempting to predict those passengers who *survived*. "
   ]
  },
  {
   "cell_type": "code",
   "execution_count": 6,
   "id": "63e97726",
   "metadata": {},
   "outputs": [
    {
     "data": {
      "image/png": "[encoded data removed]",
      "text/plain": [
       "<Figure size 432x288 with 1 Axes>"
      ]
     },
     "metadata": {
      "needs_background": "light"
     },
     "output_type": "display_data"
    },
    {
     "data": {
      "text/html": [
       "<div>\n",
       "<style scoped>\n",
       "    .dataframe tbody tr th:only-of-type {\n",
       "        vertical-align: middle;\n",
       "    }\n",
       "\n",
       "    .dataframe tbody tr th {\n",
       "        vertical-align: top;\n",
       "    }\n",
       "\n",
       "    .dataframe thead th {\n",
       "        text-align: right;\n",
       "    }\n",
       "</style>\n",
       "<table border=\"1\" class=\"dataframe\">\n",
       "  <thead>\n",
       "    <tr style=\"text-align: right;\">\n",
       "      <th></th>\n",
       "      <th>Percent</th>\n",
       "    </tr>\n",
       "    <tr>\n",
       "      <th>survived_desc</th>\n",
       "      <th></th>\n",
       "    </tr>\n",
       "  </thead>\n",
       "  <tbody>\n",
       "    <tr>\n",
       "      <th>perished</th>\n",
       "      <td>0.617</td>\n",
       "    </tr>\n",
       "    <tr>\n",
       "      <th>survived</th>\n",
       "      <td>0.383</td>\n",
       "    </tr>\n",
       "  </tbody>\n",
       "</table>\n",
       "</div>"
      ],
      "text/plain": [
       "               Percent\n",
       "survived_desc         \n",
       "perished         0.617\n",
       "survived         0.383"
      ]
     },
     "execution_count": 6,
     "metadata": {},
     "output_type": "execute_result"
    }
   ],
   "source": [
    "sns.countplot(y=df.survived_desc, data=df)\n",
    "plt.title(\"Passengers who Perished\")\n",
    "plt.xlabel(\"Count of Each Target Class\")\n",
    "plt.ylabel(\"Target Classes\")\n",
    "plt.show()\n",
    "\n",
    "survival = pd.crosstab(index=df.survived_desc, columns=[\"Percent\"], colnames=[\"\"])\n",
    "round(survival/survival.sum(), 3)"
   ]
  },
  {
   "cell_type": "markdown",
   "id": "1756fdcc",
   "metadata": {},
   "source": [
    "### 3.0. Evaluate the Influence Each Numeric Feature Has Upon the Target\n",
    "Since an understanding has been achieved regarding the extent to which the *numerical* features correlate, a closer inspection is warranted regarding each numerical features' influence on the *Target*.  Here we use stacked histograms to analyze the comparitive distributions of each *numerical* feature according to whether or not the passenger survived."
   ]
  },
  {
   "cell_type": "code",
   "execution_count": 7,
   "id": "93dfa28b",
   "metadata": {},
   "outputs": [
    {
     "data": {
      "image/png": "[encoded data removed]",
      "text/plain": [
       "<Figure size 432x288 with 1 Axes>"
      ]
     },
     "metadata": {
      "needs_background": "light"
     },
     "output_type": "display_data"
    },
    {
     "data": {
      "image/png": "[encoded data removed]",
      "text/plain": [
       "<Figure size 432x288 with 1 Axes>"
      ]
     },
     "metadata": {
      "needs_background": "light"
     },
     "output_type": "display_data"
    },
    {
     "data": {
      "image/png": "[encoded data removed]",
      "text/plain": [
       "<Figure size 432x288 with 1 Axes>"
      ]
     },
     "metadata": {
      "needs_background": "light"
     },
     "output_type": "display_data"
    },
    {
     "data": {
      "image/png": "[encoded data removed]",
      "text/plain": [
       "<Figure size 432x288 with 1 Axes>"
      ]
     },
     "metadata": {
      "needs_background": "light"
     },
     "output_type": "display_data"
    },
    {
     "data": {
      "image/png": "[encoded data removed]",
      "text/plain": [
       "<Figure size 432x288 with 1 Axes>"
      ]
     },
     "metadata": {
      "needs_background": "light"
     },
     "output_type": "display_data"
    }
   ],
   "source": [
    "for col in numerical_cols:\n",
    "    if col != 'survived':\n",
    "        plt.figure()\n",
    "        df.groupby(df.survived_desc)[col].plot.hist(alpha=0.5, density=True, legend=True)\n",
    "        plt.xlabel(col)"
   ]
  },
  {
   "cell_type": "markdown",
   "id": "87b101ac",
   "metadata": {},
   "source": [
    "### 4.0 Analyze Categorical Feature Correlations\n",
    "Having analyzed the *numerical* features, how the attention can be directed to the *categorical* features. But, first we will treat **survived, sibsp**, and **parch** as *categorical* features so we may observe how they interact with the *Target* and other predictors.\n",
    "##### Modify the Data Type of Categorical Features Having Numerical Values"
   ]
  },
  {
   "cell_type": "code",
   "execution_count": 8,
   "id": "0beb6e43",
   "metadata": {},
   "outputs": [
    {
     "data": {
      "text/plain": [
       "age              float64\n",
       "fare             float64\n",
       "body             float64\n",
       "cabin             object\n",
       "embarked          object\n",
       "home.dest         object\n",
       "boat              object\n",
       "cabin_NA            bool\n",
       "embarked_NA         bool\n",
       "boat_NA             bool\n",
       "home.dest_NA        bool\n",
       "survived          object\n",
       "sex               object\n",
       "sibsp             object\n",
       "parch             object\n",
       "ticket            object\n",
       "survived_desc     object\n",
       "dtype: object"
      ]
     },
     "execution_count": 8,
     "metadata": {},
     "output_type": "execute_result"
    }
   ],
   "source": [
    "df[['survived','sibsp','parch']] = df[['survived','sibsp','parch']].astype('object')\n",
    "df.dtypes"
   ]
  },
  {
   "cell_type": "markdown",
   "id": "8d27f5ce",
   "metadata": {},
   "source": [
    "##### Separate Numerical and Categorical Features"
   ]
  },
  {
   "cell_type": "code",
   "execution_count": 9,
   "id": "de4593c2",
   "metadata": {},
   "outputs": [
    {
     "name": "stdout",
     "output_type": "stream",
     "text": [
      "['age', 'fare', 'body']\n",
      "['cabin', 'embarked', 'home.dest', 'boat', 'survived', 'sex', 'sibsp', 'parch', 'ticket', 'survived_desc']\n",
      "['cabin_NA', 'embarked_NA', 'boat_NA', 'home.dest_NA']\n"
     ]
    }
   ],
   "source": [
    "numerical_cols = [col for col in df.columns if df.dtypes[col] != 'O' and df.dtypes[col] != bool]\n",
    "categorical_cols = [col for col in df.columns if col not in numerical_cols and df.dtypes[col] != bool]\n",
    "cat_missing_cols = [col for col in df.columns if df.dtypes[col] == bool]\n",
    "\n",
    "print(numerical_cols)\n",
    "print(categorical_cols)\n",
    "print(cat_missing_cols)"
   ]
  },
  {
   "cell_type": "markdown",
   "id": "0a8b8079",
   "metadata": {},
   "source": [
    "#### 4.1. First, determine the number of categories per feature"
   ]
  },
  {
   "cell_type": "code",
   "execution_count": 10,
   "id": "35f093d5",
   "metadata": {
    "scrolled": true
   },
   "outputs": [
    {
     "data": {
      "text/plain": [
       "survived           2\n",
       "sex                2\n",
       "survived_desc      2\n",
       "embarked           3\n",
       "sibsp              7\n",
       "parch              8\n",
       "boat              28\n",
       "cabin            181\n",
       "home.dest        369\n",
       "ticket           927\n",
       "dtype: int64"
      ]
     },
     "execution_count": 10,
     "metadata": {},
     "output_type": "execute_result"
    }
   ],
   "source": [
    "df[categorical_cols].nunique().sort_values(ascending=True)"
   ]
  },
  {
   "cell_type": "markdown",
   "id": "cd0ce5ce",
   "metadata": {},
   "source": [
    "#### 4.2. Create Frequency Tables"
   ]
  },
  {
   "cell_type": "code",
   "execution_count": 11,
   "id": "2583d17d",
   "metadata": {},
   "outputs": [
    {
     "data": {
      "text/html": [
       "<div>\n",
       "<style scoped>\n",
       "    .dataframe tbody tr th:only-of-type {\n",
       "        vertical-align: middle;\n",
       "    }\n",
       "\n",
       "    .dataframe tbody tr th {\n",
       "        vertical-align: top;\n",
       "    }\n",
       "\n",
       "    .dataframe thead th {\n",
       "        text-align: right;\n",
       "    }\n",
       "</style>\n",
       "<table border=\"1\" class=\"dataframe\">\n",
       "  <thead>\n",
       "    <tr style=\"text-align: right;\">\n",
       "      <th></th>\n",
       "      <th>Percent</th>\n",
       "    </tr>\n",
       "    <tr>\n",
       "      <th>cabin</th>\n",
       "      <th></th>\n",
       "    </tr>\n",
       "  </thead>\n",
       "  <tbody>\n",
       "    <tr>\n",
       "      <th>A10</th>\n",
       "      <td>0.0</td>\n",
       "    </tr>\n",
       "    <tr>\n",
       "      <th>A11</th>\n",
       "      <td>0.0</td>\n",
       "    </tr>\n",
       "    <tr>\n",
       "      <th>A14</th>\n",
       "      <td>0.0</td>\n",
       "    </tr>\n",
       "    <tr>\n",
       "      <th>A16</th>\n",
       "      <td>0.0</td>\n",
       "    </tr>\n",
       "    <tr>\n",
       "      <th>A18</th>\n",
       "      <td>0.0</td>\n",
       "    </tr>\n",
       "    <tr>\n",
       "      <th>...</th>\n",
       "      <td>...</td>\n",
       "    </tr>\n",
       "    <tr>\n",
       "      <th>F33</th>\n",
       "      <td>0.0</td>\n",
       "    </tr>\n",
       "    <tr>\n",
       "      <th>F38</th>\n",
       "      <td>0.0</td>\n",
       "    </tr>\n",
       "    <tr>\n",
       "      <th>F4</th>\n",
       "      <td>0.0</td>\n",
       "    </tr>\n",
       "    <tr>\n",
       "      <th>G6</th>\n",
       "      <td>0.0</td>\n",
       "    </tr>\n",
       "    <tr>\n",
       "      <th>T</th>\n",
       "      <td>0.0</td>\n",
       "    </tr>\n",
       "  </tbody>\n",
       "</table>\n",
       "<p>181 rows × 1 columns</p>\n",
       "</div>"
      ],
      "text/plain": [
       "       Percent\n",
       "cabin         \n",
       "A10        0.0\n",
       "A11        0.0\n",
       "A14        0.0\n",
       "A16        0.0\n",
       "A18        0.0\n",
       "...        ...\n",
       "F33        0.0\n",
       "F38        0.0\n",
       "F4         0.0\n",
       "G6         0.0\n",
       "T          0.0\n",
       "\n",
       "[181 rows x 1 columns]"
      ]
     },
     "metadata": {},
     "output_type": "display_data"
    },
    {
     "data": {
      "text/html": [
       "<div>\n",
       "<style scoped>\n",
       "    .dataframe tbody tr th:only-of-type {\n",
       "        vertical-align: middle;\n",
       "    }\n",
       "\n",
       "    .dataframe tbody tr th {\n",
       "        vertical-align: top;\n",
       "    }\n",
       "\n",
       "    .dataframe thead th {\n",
       "        text-align: right;\n",
       "    }\n",
       "</style>\n",
       "<table border=\"1\" class=\"dataframe\">\n",
       "  <thead>\n",
       "    <tr style=\"text-align: right;\">\n",
       "      <th></th>\n",
       "      <th>Percent</th>\n",
       "    </tr>\n",
       "    <tr>\n",
       "      <th>embarked</th>\n",
       "      <th></th>\n",
       "    </tr>\n",
       "  </thead>\n",
       "  <tbody>\n",
       "    <tr>\n",
       "      <th>C</th>\n",
       "      <td>0.21</td>\n",
       "    </tr>\n",
       "    <tr>\n",
       "      <th>Q</th>\n",
       "      <td>0.09</td>\n",
       "    </tr>\n",
       "    <tr>\n",
       "      <th>S</th>\n",
       "      <td>0.70</td>\n",
       "    </tr>\n",
       "  </tbody>\n",
       "</table>\n",
       "</div>"
      ],
      "text/plain": [
       "          Percent\n",
       "embarked         \n",
       "C            0.21\n",
       "Q            0.09\n",
       "S            0.70"
      ]
     },
     "metadata": {},
     "output_type": "display_data"
    },
    {
     "data": {
      "text/html": [
       "<div>\n",
       "<style scoped>\n",
       "    .dataframe tbody tr th:only-of-type {\n",
       "        vertical-align: middle;\n",
       "    }\n",
       "\n",
       "    .dataframe tbody tr th {\n",
       "        vertical-align: top;\n",
       "    }\n",
       "\n",
       "    .dataframe thead th {\n",
       "        text-align: right;\n",
       "    }\n",
       "</style>\n",
       "<table border=\"1\" class=\"dataframe\">\n",
       "  <thead>\n",
       "    <tr style=\"text-align: right;\">\n",
       "      <th></th>\n",
       "      <th>Percent</th>\n",
       "    </tr>\n",
       "    <tr>\n",
       "      <th>home.dest</th>\n",
       "      <th></th>\n",
       "    </tr>\n",
       "  </thead>\n",
       "  <tbody>\n",
       "    <tr>\n",
       "      <th>?Havana, Cuba</th>\n",
       "      <td>0.0</td>\n",
       "    </tr>\n",
       "    <tr>\n",
       "      <th>Aberdeen / Portland, OR</th>\n",
       "      <td>0.0</td>\n",
       "    </tr>\n",
       "    <tr>\n",
       "      <th>Albany, NY</th>\n",
       "      <td>0.0</td>\n",
       "    </tr>\n",
       "    <tr>\n",
       "      <th>Altdorf, Switzerland</th>\n",
       "      <td>0.0</td>\n",
       "    </tr>\n",
       "    <tr>\n",
       "      <th>Amenia, ND</th>\n",
       "      <td>0.0</td>\n",
       "    </tr>\n",
       "    <tr>\n",
       "      <th>...</th>\n",
       "      <td>...</td>\n",
       "    </tr>\n",
       "    <tr>\n",
       "      <th>Worcester, England</th>\n",
       "      <td>0.0</td>\n",
       "    </tr>\n",
       "    <tr>\n",
       "      <th>Worcester, MA</th>\n",
       "      <td>0.0</td>\n",
       "    </tr>\n",
       "    <tr>\n",
       "      <th>Yoevil, England / Cottage Grove, OR</th>\n",
       "      <td>0.0</td>\n",
       "    </tr>\n",
       "    <tr>\n",
       "      <th>Youngstown, OH</th>\n",
       "      <td>0.0</td>\n",
       "    </tr>\n",
       "    <tr>\n",
       "      <th>Zurich, Switzerland</th>\n",
       "      <td>0.0</td>\n",
       "    </tr>\n",
       "  </tbody>\n",
       "</table>\n",
       "<p>369 rows × 1 columns</p>\n",
       "</div>"
      ],
      "text/plain": [
       "                                     Percent\n",
       "home.dest                                   \n",
       "?Havana, Cuba                            0.0\n",
       "Aberdeen / Portland, OR                  0.0\n",
       "Albany, NY                               0.0\n",
       "Altdorf, Switzerland                     0.0\n",
       "Amenia, ND                               0.0\n",
       "...                                      ...\n",
       "Worcester, England                       0.0\n",
       "Worcester, MA                            0.0\n",
       "Yoevil, England / Cottage Grove, OR      0.0\n",
       "Youngstown, OH                           0.0\n",
       "Zurich, Switzerland                      0.0\n",
       "\n",
       "[369 rows x 1 columns]"
      ]
     },
     "metadata": {},
     "output_type": "display_data"
    },
    {
     "data": {
      "text/html": [
       "<div>\n",
       "<style scoped>\n",
       "    .dataframe tbody tr th:only-of-type {\n",
       "        vertical-align: middle;\n",
       "    }\n",
       "\n",
       "    .dataframe tbody tr th {\n",
       "        vertical-align: top;\n",
       "    }\n",
       "\n",
       "    .dataframe thead th {\n",
       "        text-align: right;\n",
       "    }\n",
       "</style>\n",
       "<table border=\"1\" class=\"dataframe\">\n",
       "  <thead>\n",
       "    <tr style=\"text-align: right;\">\n",
       "      <th></th>\n",
       "      <th>Percent</th>\n",
       "    </tr>\n",
       "    <tr>\n",
       "      <th>boat</th>\n",
       "      <th></th>\n",
       "    </tr>\n",
       "  </thead>\n",
       "  <tbody>\n",
       "    <tr>\n",
       "      <th>1</th>\n",
       "      <td>0.00</td>\n",
       "    </tr>\n",
       "    <tr>\n",
       "      <th>10</th>\n",
       "      <td>0.02</td>\n",
       "    </tr>\n",
       "    <tr>\n",
       "      <th>11</th>\n",
       "      <td>0.02</td>\n",
       "    </tr>\n",
       "    <tr>\n",
       "      <th>12</th>\n",
       "      <td>0.01</td>\n",
       "    </tr>\n",
       "    <tr>\n",
       "      <th>13</th>\n",
       "      <td>0.03</td>\n",
       "    </tr>\n",
       "    <tr>\n",
       "      <th>13 15</th>\n",
       "      <td>0.00</td>\n",
       "    </tr>\n",
       "    <tr>\n",
       "      <th>13 15 B</th>\n",
       "      <td>0.00</td>\n",
       "    </tr>\n",
       "    <tr>\n",
       "      <th>14</th>\n",
       "      <td>0.03</td>\n",
       "    </tr>\n",
       "    <tr>\n",
       "      <th>15</th>\n",
       "      <td>0.03</td>\n",
       "    </tr>\n",
       "    <tr>\n",
       "      <th>15 16</th>\n",
       "      <td>0.00</td>\n",
       "    </tr>\n",
       "    <tr>\n",
       "      <th>16</th>\n",
       "      <td>0.02</td>\n",
       "    </tr>\n",
       "    <tr>\n",
       "      <th>2</th>\n",
       "      <td>0.01</td>\n",
       "    </tr>\n",
       "    <tr>\n",
       "      <th>3</th>\n",
       "      <td>0.02</td>\n",
       "    </tr>\n",
       "    <tr>\n",
       "      <th>4</th>\n",
       "      <td>0.02</td>\n",
       "    </tr>\n",
       "    <tr>\n",
       "      <th>5</th>\n",
       "      <td>0.02</td>\n",
       "    </tr>\n",
       "    <tr>\n",
       "      <th>5 7</th>\n",
       "      <td>0.00</td>\n",
       "    </tr>\n",
       "    <tr>\n",
       "      <th>5 9</th>\n",
       "      <td>0.00</td>\n",
       "    </tr>\n",
       "    <tr>\n",
       "      <th>6</th>\n",
       "      <td>0.02</td>\n",
       "    </tr>\n",
       "    <tr>\n",
       "      <th>7</th>\n",
       "      <td>0.02</td>\n",
       "    </tr>\n",
       "    <tr>\n",
       "      <th>8</th>\n",
       "      <td>0.02</td>\n",
       "    </tr>\n",
       "    <tr>\n",
       "      <th>8 10</th>\n",
       "      <td>0.00</td>\n",
       "    </tr>\n",
       "    <tr>\n",
       "      <th>9</th>\n",
       "      <td>0.02</td>\n",
       "    </tr>\n",
       "    <tr>\n",
       "      <th>A</th>\n",
       "      <td>0.01</td>\n",
       "    </tr>\n",
       "    <tr>\n",
       "      <th>B</th>\n",
       "      <td>0.01</td>\n",
       "    </tr>\n",
       "    <tr>\n",
       "      <th>C</th>\n",
       "      <td>0.03</td>\n",
       "    </tr>\n",
       "    <tr>\n",
       "      <th>C D</th>\n",
       "      <td>0.00</td>\n",
       "    </tr>\n",
       "    <tr>\n",
       "      <th>D</th>\n",
       "      <td>0.02</td>\n",
       "    </tr>\n",
       "    <tr>\n",
       "      <th>unknown</th>\n",
       "      <td>0.63</td>\n",
       "    </tr>\n",
       "  </tbody>\n",
       "</table>\n",
       "</div>"
      ],
      "text/plain": [
       "         Percent\n",
       "boat            \n",
       "1           0.00\n",
       "10          0.02\n",
       "11          0.02\n",
       "12          0.01\n",
       "13          0.03\n",
       "13 15       0.00\n",
       "13 15 B     0.00\n",
       "14          0.03\n",
       "15          0.03\n",
       "15 16       0.00\n",
       "16          0.02\n",
       "2           0.01\n",
       "3           0.02\n",
       "4           0.02\n",
       "5           0.02\n",
       "5 7         0.00\n",
       "5 9         0.00\n",
       "6           0.02\n",
       "7           0.02\n",
       "8           0.02\n",
       "8 10        0.00\n",
       "9           0.02\n",
       "A           0.01\n",
       "B           0.01\n",
       "C           0.03\n",
       "C D         0.00\n",
       "D           0.02\n",
       "unknown     0.63"
      ]
     },
     "metadata": {},
     "output_type": "display_data"
    },
    {
     "data": {
      "text/html": [
       "<div>\n",
       "<style scoped>\n",
       "    .dataframe tbody tr th:only-of-type {\n",
       "        vertical-align: middle;\n",
       "    }\n",
       "\n",
       "    .dataframe tbody tr th {\n",
       "        vertical-align: top;\n",
       "    }\n",
       "\n",
       "    .dataframe thead th {\n",
       "        text-align: right;\n",
       "    }\n",
       "</style>\n",
       "<table border=\"1\" class=\"dataframe\">\n",
       "  <thead>\n",
       "    <tr style=\"text-align: right;\">\n",
       "      <th></th>\n",
       "      <th>Percent</th>\n",
       "    </tr>\n",
       "    <tr>\n",
       "      <th>survived</th>\n",
       "      <th></th>\n",
       "    </tr>\n",
       "  </thead>\n",
       "  <tbody>\n",
       "    <tr>\n",
       "      <th>0</th>\n",
       "      <td>0.62</td>\n",
       "    </tr>\n",
       "    <tr>\n",
       "      <th>1</th>\n",
       "      <td>0.38</td>\n",
       "    </tr>\n",
       "  </tbody>\n",
       "</table>\n",
       "</div>"
      ],
      "text/plain": [
       "          Percent\n",
       "survived         \n",
       "0            0.62\n",
       "1            0.38"
      ]
     },
     "metadata": {},
     "output_type": "display_data"
    },
    {
     "data": {
      "text/html": [
       "<div>\n",
       "<style scoped>\n",
       "    .dataframe tbody tr th:only-of-type {\n",
       "        vertical-align: middle;\n",
       "    }\n",
       "\n",
       "    .dataframe tbody tr th {\n",
       "        vertical-align: top;\n",
       "    }\n",
       "\n",
       "    .dataframe thead th {\n",
       "        text-align: right;\n",
       "    }\n",
       "</style>\n",
       "<table border=\"1\" class=\"dataframe\">\n",
       "  <thead>\n",
       "    <tr style=\"text-align: right;\">\n",
       "      <th></th>\n",
       "      <th>Percent</th>\n",
       "    </tr>\n",
       "    <tr>\n",
       "      <th>sex</th>\n",
       "      <th></th>\n",
       "    </tr>\n",
       "  </thead>\n",
       "  <tbody>\n",
       "    <tr>\n",
       "      <th>female</th>\n",
       "      <td>0.36</td>\n",
       "    </tr>\n",
       "    <tr>\n",
       "      <th>male</th>\n",
       "      <td>0.64</td>\n",
       "    </tr>\n",
       "  </tbody>\n",
       "</table>\n",
       "</div>"
      ],
      "text/plain": [
       "        Percent\n",
       "sex            \n",
       "female     0.36\n",
       "male       0.64"
      ]
     },
     "metadata": {},
     "output_type": "display_data"
    },
    {
     "data": {
      "text/html": [
       "<div>\n",
       "<style scoped>\n",
       "    .dataframe tbody tr th:only-of-type {\n",
       "        vertical-align: middle;\n",
       "    }\n",
       "\n",
       "    .dataframe tbody tr th {\n",
       "        vertical-align: top;\n",
       "    }\n",
       "\n",
       "    .dataframe thead th {\n",
       "        text-align: right;\n",
       "    }\n",
       "</style>\n",
       "<table border=\"1\" class=\"dataframe\">\n",
       "  <thead>\n",
       "    <tr style=\"text-align: right;\">\n",
       "      <th></th>\n",
       "      <th>Percent</th>\n",
       "    </tr>\n",
       "    <tr>\n",
       "      <th>sibsp</th>\n",
       "      <th></th>\n",
       "    </tr>\n",
       "  </thead>\n",
       "  <tbody>\n",
       "    <tr>\n",
       "      <th>0</th>\n",
       "      <td>0.68</td>\n",
       "    </tr>\n",
       "    <tr>\n",
       "      <th>1</th>\n",
       "      <td>0.24</td>\n",
       "    </tr>\n",
       "    <tr>\n",
       "      <th>2</th>\n",
       "      <td>0.03</td>\n",
       "    </tr>\n",
       "    <tr>\n",
       "      <th>3</th>\n",
       "      <td>0.02</td>\n",
       "    </tr>\n",
       "    <tr>\n",
       "      <th>4</th>\n",
       "      <td>0.02</td>\n",
       "    </tr>\n",
       "    <tr>\n",
       "      <th>5</th>\n",
       "      <td>0.00</td>\n",
       "    </tr>\n",
       "    <tr>\n",
       "      <th>8</th>\n",
       "      <td>0.01</td>\n",
       "    </tr>\n",
       "  </tbody>\n",
       "</table>\n",
       "</div>"
      ],
      "text/plain": [
       "       Percent\n",
       "sibsp         \n",
       "0         0.68\n",
       "1         0.24\n",
       "2         0.03\n",
       "3         0.02\n",
       "4         0.02\n",
       "5         0.00\n",
       "8         0.01"
      ]
     },
     "metadata": {},
     "output_type": "display_data"
    },
    {
     "data": {
      "text/html": [
       "<div>\n",
       "<style scoped>\n",
       "    .dataframe tbody tr th:only-of-type {\n",
       "        vertical-align: middle;\n",
       "    }\n",
       "\n",
       "    .dataframe tbody tr th {\n",
       "        vertical-align: top;\n",
       "    }\n",
       "\n",
       "    .dataframe thead th {\n",
       "        text-align: right;\n",
       "    }\n",
       "</style>\n",
       "<table border=\"1\" class=\"dataframe\">\n",
       "  <thead>\n",
       "    <tr style=\"text-align: right;\">\n",
       "      <th></th>\n",
       "      <th>Percent</th>\n",
       "    </tr>\n",
       "    <tr>\n",
       "      <th>parch</th>\n",
       "      <th></th>\n",
       "    </tr>\n",
       "  </thead>\n",
       "  <tbody>\n",
       "    <tr>\n",
       "      <th>0</th>\n",
       "      <td>0.77</td>\n",
       "    </tr>\n",
       "    <tr>\n",
       "      <th>1</th>\n",
       "      <td>0.13</td>\n",
       "    </tr>\n",
       "    <tr>\n",
       "      <th>2</th>\n",
       "      <td>0.09</td>\n",
       "    </tr>\n",
       "    <tr>\n",
       "      <th>3</th>\n",
       "      <td>0.01</td>\n",
       "    </tr>\n",
       "    <tr>\n",
       "      <th>4</th>\n",
       "      <td>0.00</td>\n",
       "    </tr>\n",
       "    <tr>\n",
       "      <th>5</th>\n",
       "      <td>0.00</td>\n",
       "    </tr>\n",
       "    <tr>\n",
       "      <th>6</th>\n",
       "      <td>0.00</td>\n",
       "    </tr>\n",
       "    <tr>\n",
       "      <th>9</th>\n",
       "      <td>0.00</td>\n",
       "    </tr>\n",
       "  </tbody>\n",
       "</table>\n",
       "</div>"
      ],
      "text/plain": [
       "       Percent\n",
       "parch         \n",
       "0         0.77\n",
       "1         0.13\n",
       "2         0.09\n",
       "3         0.01\n",
       "4         0.00\n",
       "5         0.00\n",
       "6         0.00\n",
       "9         0.00"
      ]
     },
     "metadata": {},
     "output_type": "display_data"
    },
    {
     "data": {
      "text/html": [
       "<div>\n",
       "<style scoped>\n",
       "    .dataframe tbody tr th:only-of-type {\n",
       "        vertical-align: middle;\n",
       "    }\n",
       "\n",
       "    .dataframe tbody tr th {\n",
       "        vertical-align: top;\n",
       "    }\n",
       "\n",
       "    .dataframe thead th {\n",
       "        text-align: right;\n",
       "    }\n",
       "</style>\n",
       "<table border=\"1\" class=\"dataframe\">\n",
       "  <thead>\n",
       "    <tr style=\"text-align: right;\">\n",
       "      <th></th>\n",
       "      <th>Percent</th>\n",
       "    </tr>\n",
       "    <tr>\n",
       "      <th>ticket</th>\n",
       "      <th></th>\n",
       "    </tr>\n",
       "  </thead>\n",
       "  <tbody>\n",
       "    <tr>\n",
       "      <th>110152</th>\n",
       "      <td>0.0</td>\n",
       "    </tr>\n",
       "    <tr>\n",
       "      <th>110413</th>\n",
       "      <td>0.0</td>\n",
       "    </tr>\n",
       "    <tr>\n",
       "      <th>110465</th>\n",
       "      <td>0.0</td>\n",
       "    </tr>\n",
       "    <tr>\n",
       "      <th>110469</th>\n",
       "      <td>0.0</td>\n",
       "    </tr>\n",
       "    <tr>\n",
       "      <th>110489</th>\n",
       "      <td>0.0</td>\n",
       "    </tr>\n",
       "    <tr>\n",
       "      <th>...</th>\n",
       "      <td>...</td>\n",
       "    </tr>\n",
       "    <tr>\n",
       "      <th>W./C. 6608</th>\n",
       "      <td>0.0</td>\n",
       "    </tr>\n",
       "    <tr>\n",
       "      <th>W./C. 6609</th>\n",
       "      <td>0.0</td>\n",
       "    </tr>\n",
       "    <tr>\n",
       "      <th>W.E.P. 5734</th>\n",
       "      <td>0.0</td>\n",
       "    </tr>\n",
       "    <tr>\n",
       "      <th>W/C 14208</th>\n",
       "      <td>0.0</td>\n",
       "    </tr>\n",
       "    <tr>\n",
       "      <th>WE/P 5735</th>\n",
       "      <td>0.0</td>\n",
       "    </tr>\n",
       "  </tbody>\n",
       "</table>\n",
       "<p>927 rows × 1 columns</p>\n",
       "</div>"
      ],
      "text/plain": [
       "             Percent\n",
       "ticket              \n",
       "110152           0.0\n",
       "110413           0.0\n",
       "110465           0.0\n",
       "110469           0.0\n",
       "110489           0.0\n",
       "...              ...\n",
       "W./C. 6608       0.0\n",
       "W./C. 6609       0.0\n",
       "W.E.P. 5734      0.0\n",
       "W/C 14208        0.0\n",
       "WE/P 5735        0.0\n",
       "\n",
       "[927 rows x 1 columns]"
      ]
     },
     "metadata": {},
     "output_type": "display_data"
    },
    {
     "data": {
      "text/html": [
       "<div>\n",
       "<style scoped>\n",
       "    .dataframe tbody tr th:only-of-type {\n",
       "        vertical-align: middle;\n",
       "    }\n",
       "\n",
       "    .dataframe tbody tr th {\n",
       "        vertical-align: top;\n",
       "    }\n",
       "\n",
       "    .dataframe thead th {\n",
       "        text-align: right;\n",
       "    }\n",
       "</style>\n",
       "<table border=\"1\" class=\"dataframe\">\n",
       "  <thead>\n",
       "    <tr style=\"text-align: right;\">\n",
       "      <th></th>\n",
       "      <th>Percent</th>\n",
       "    </tr>\n",
       "    <tr>\n",
       "      <th>survived_desc</th>\n",
       "      <th></th>\n",
       "    </tr>\n",
       "  </thead>\n",
       "  <tbody>\n",
       "    <tr>\n",
       "      <th>perished</th>\n",
       "      <td>0.62</td>\n",
       "    </tr>\n",
       "    <tr>\n",
       "      <th>survived</th>\n",
       "      <td>0.38</td>\n",
       "    </tr>\n",
       "  </tbody>\n",
       "</table>\n",
       "</div>"
      ],
      "text/plain": [
       "               Percent\n",
       "survived_desc         \n",
       "perished          0.62\n",
       "survived          0.38"
      ]
     },
     "metadata": {},
     "output_type": "display_data"
    }
   ],
   "source": [
    "for col in categorical_cols:\n",
    "    fig = pd.crosstab(index=df[col], columns=[\"Percent\"], colnames=[\"\"])\n",
    "    percent = round(fig/fig.sum(), 2)\n",
    "    display(percent)"
   ]
  },
  {
   "cell_type": "markdown",
   "id": "a6c98d93",
   "metadata": {},
   "source": [
    "Throughout our data profiling and exploratory data analysis activities it has been evident that some of the categorical features contain a large number of categories (members). Not only are those particular features somewhat difficult to visualize, but they may also exhibit weak levels of correlation to the target in their *raw* form.  In the frequency tables above it is clear that **cabin** (181 categories), **boat** (27 categories), **home.dest** (369 categories), and **ticket** (927 categories) are not only difficult to visualize, but the many categories they contain each contribute very little percentage to the whole (100%).   \n",
    "\n",
    "\n",
    "#### 4.3. Create Stacked Bar Charts\n",
    "Here we visualize the *correlation-to-target* for only those features having a manageable number of categories (e.g., <= 10). In order to better understand the remaining features (cabin, boat, home.dest, and ticket), and their correlation to the target, we may need to consider implementing a *feature engineering* technique like discretization to \"condense\" their discriminitory power into a smaller number of more influential categories. This will be demonstrated in the next notebook: **04-Feature Engineering**."
   ]
  },
  {
   "cell_type": "code",
   "execution_count": 12,
   "id": "93498bbb",
   "metadata": {},
   "outputs": [
    {
     "data": {
      "image/png": "[encoded data removed]",
      "text/plain": [
       "<Figure size 432x288 with 1 Axes>"
      ]
     },
     "metadata": {
      "needs_background": "light"
     },
     "output_type": "display_data"
    },
    {
     "data": {
      "image/png": "[encoded data removed]",
      "text/plain": [
       "<Figure size 432x288 with 1 Axes>"
      ]
     },
     "metadata": {
      "needs_background": "light"
     },
     "output_type": "display_data"
    },
    {
     "data": {
      "image/png": "[encoded data removed]",
      "text/plain": [
       "<Figure size 432x288 with 1 Axes>"
      ]
     },
     "metadata": {
      "needs_background": "light"
     },
     "output_type": "display_data"
    },
    {
     "data": {
      "image/png": "[encoded data removed]",
      "text/plain": [
       "<Figure size 432x288 with 1 Axes>"
      ]
     },
     "metadata": {
      "needs_background": "light"
     },
     "output_type": "display_data"
    }
   ],
   "source": [
    "for col in categorical_cols:\n",
    "    if col not in ['survived','survived_desc'] and df[col].nunique() <= 10:\n",
    "        fig = pd.crosstab(index=df[\"survived_desc\"], columns=df[col])\n",
    "        fig.plot(kind=\"bar\", figsize=(6,4), stacked=True, xlabel='Survival', ylabel=col)"
   ]
  },
  {
   "cell_type": "markdown",
   "id": "b971ea87",
   "metadata": {},
   "source": [
    "The first plot illustrates that most of the surviving passengers embarked at **Southampton, UK** which makes sense because this is where most of the passengers were boarded.  The second plot clearly reveals that a far greater number of **female** passengers survived than did **male** which also makes sense because we know from social convention of the period, and from the historic accounts of the survivers, that *women and children* were first to board lifeboats. \n",
    "\n",
    "### 5.0. Explore Feature Interactions\n",
    "With what the analysis has already been discovered, it would now be interesting to reveal how numerical features (e.g., age, fare, number of parents/children, number of siblings/parents) are distributed amongst the various categories (e.g., sex, point-of-embarkation). This would provide insight as to whether or not families traveling together had a better chance of survival, and whether **age** interacted with **sex** to optimized survival.\n",
    "\n",
    "#### 5.1. Survival by Gender"
   ]
  },
  {
   "cell_type": "code",
   "execution_count": 13,
   "id": "ddeebd67",
   "metadata": {},
   "outputs": [
    {
     "data": {
      "image/png": "[encoded data removed]",
      "text/plain": [
       "<Figure size 1080x360 with 3 Axes>"
      ]
     },
     "metadata": {
      "needs_background": "light"
     },
     "output_type": "display_data"
    }
   ],
   "source": [
    "plt.figure(figsize=(15,5))\n",
    "plt.subplot(1, 3, 1)\n",
    "sns.scatterplot(x='survived_desc', y='sibsp', data=df, hue='sex', hue_order=['male','female'], style='sex')\n",
    "plt.title(\"Survival by Gender & Siblings/Parents\", fontsize = 12)\n",
    "plt.xlabel(\"Survival\", fontsize=12)\n",
    "plt.ylabel(\"Siblings or Parents\", fontsize=12)\n",
    "plt.subplot(1, 3, 2)\n",
    "sns.scatterplot(x='survived_desc', y='parch', data=df, hue='sex', hue_order=['male','female'], style='sex')\n",
    "plt.title(\"Survival by Gender & Parents/Children\", fontsize = 12)\n",
    "plt.xlabel(\"Survival\", fontsize=12)\n",
    "plt.ylabel(\"Parents or Children\", fontsize=12)\n",
    "plt.subplot(1, 3, 3)\n",
    "sns.scatterplot(x='survived_desc', y='age', data=df, hue='sex', hue_order=['male','female'], style='sex')\n",
    "plt.title(\"Survival by Gender & Age\", fontsize = 12)\n",
    "plt.xlabel(\"Survival\", fontsize=12)\n",
    "plt.ylabel(\"Age\", fontsize=12)\n",
    "plt.show()"
   ]
  },
  {
   "cell_type": "markdown",
   "id": "82a0bbc2",
   "metadata": {},
   "source": [
    "#### 5.2. Survival by Fare Amount"
   ]
  },
  {
   "cell_type": "code",
   "execution_count": 14,
   "id": "93de6652",
   "metadata": {},
   "outputs": [
    {
     "data": {
      "image/png": "[encoded data removed]",
      "text/plain": [
       "<Figure size 1080x360 with 3 Axes>"
      ]
     },
     "metadata": {
      "needs_background": "light"
     },
     "output_type": "display_data"
    }
   ],
   "source": [
    "plt.figure(figsize=(15,5))\n",
    "plt.subplot(1, 3, 1)\n",
    "sns.scatterplot(y='fare', x='sibsp', data=df, hue='survived_desc')\n",
    "plt.title(\"Survival by Fare (Siblings/Parents)\", fontsize = 12)\n",
    "plt.xlabel(\"Siblings/Parents\", fontsize=12)\n",
    "plt.ylabel(\"Fare Amount ($)\", fontsize=12)\n",
    "plt.subplot(1, 3, 2)\n",
    "sns.scatterplot(y='fare', x='parch', data=df, hue='survived_desc')\n",
    "plt.title(\"Survival by Fare (Parents/Children)\", fontsize = 12)\n",
    "plt.xlabel(\"Parents/Children\", fontsize=12)\n",
    "plt.ylabel(\"\")\n",
    "plt.subplot(1, 3, 3)\n",
    "sns.scatterplot(y='fare', x='age', data=df, hue='survived_desc')\n",
    "plt.title(\"Survival by Fare (Age)\", fontsize = 12)\n",
    "plt.xlabel(\"Age\", fontsize=12)\n",
    "plt.ylabel(\"\")\n",
    "plt.show()"
   ]
  },
  {
   "cell_type": "markdown",
   "id": "11fb2ec2",
   "metadata": {},
   "source": [
    "#### 5.3. Survival by Point of Embarkation"
   ]
  },
  {
   "cell_type": "code",
   "execution_count": 15,
   "id": "e8ac3343",
   "metadata": {},
   "outputs": [
    {
     "data": {
      "image/png": "[encoded data removed]",
      "text/plain": [
       "<Figure size 1080x216 with 3 Axes>"
      ]
     },
     "metadata": {
      "needs_background": "light"
     },
     "output_type": "display_data"
    }
   ],
   "source": [
    "plt.figure(figsize=(15,3))\n",
    "plt.subplot(1, 3, 1)\n",
    "sns.scatterplot(y='embarked', x='sibsp', data=df, hue='survived_desc', alpha=0.7)\n",
    "plt.title(\"Survival by Embarkation (Siblings/Parents)\", fontsize = 12)\n",
    "plt.xlabel(\"Siblings/Parents\", fontsize=12)\n",
    "plt.ylabel(\"Embarked\", fontsize=12)\n",
    "plt.subplot(1, 3, 2)\n",
    "sns.scatterplot(y='embarked', x='parch', data=df, hue='survived_desc', alpha=0.7)\n",
    "plt.title(\"Survival by Embarkation (Parents/Children)\", fontsize = 12)\n",
    "plt.xlabel(\"Parents/Children\", fontsize=12)\n",
    "plt.ylabel(\"\")\n",
    "plt.subplot(1, 3, 3)\n",
    "sns.scatterplot(y='embarked', x='age', data=df, hue='survived_desc', alpha=0.7)\n",
    "plt.title(\"Survival by Embarkation (Age)\", fontsize = 12)\n",
    "plt.xlabel(\"Age\", fontsize=12)\n",
    "plt.ylabel(\"\")\n",
    "plt.show()"
   ]
  }
 ],
 "metadata": {
  "kernelspec": {
   "display_name": "Python 3.8 - AzureML",
   "language": "python",
   "name": "python38-azureml"
  },
  "language_info": {
   "codemirror_mode": {
    "name": "ipython",
    "version": 3
   },
   "file_extension": ".py",
   "mimetype": "text/x-python",
   "name": "python",
   "nbconvert_exporter": "python",
   "pygments_lexer": "ipython3",
   "version": "3.8.1"
  }
 },
 "nbformat": 4,
 "nbformat_minor": 5
}
